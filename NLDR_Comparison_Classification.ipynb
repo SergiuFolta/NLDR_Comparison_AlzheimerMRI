{
  "nbformat": 4,
  "nbformat_minor": 0,
  "metadata": {
    "colab": {
      "provenance": []
    },
    "kernelspec": {
      "name": "python3",
      "display_name": "Python 3"
    },
    "language_info": {
      "name": "python"
    }
  },
  "cells": [
    {
      "cell_type": "code",
      "execution_count": 1,
      "metadata": {
        "colab": {
          "base_uri": "https://localhost:8080/"
        },
        "id": "H8rW3OtAXX8-",
        "outputId": "d5c917e2-c24b-4326-f705-315c5dabf3c2"
      },
      "outputs": [
        {
          "output_type": "stream",
          "name": "stdout",
          "text": [
            "Collecting pydiffmap\n",
            "  Downloading pydiffmap-0.2.0.1-py2.py3-none-any.whl.metadata (3.9 kB)\n",
            "Requirement already satisfied: numpy in /usr/local/lib/python3.10/dist-packages (from pydiffmap) (1.26.4)\n",
            "Requirement already satisfied: scipy in /usr/local/lib/python3.10/dist-packages (from pydiffmap) (1.13.1)\n",
            "Requirement already satisfied: scikit-learn in /usr/local/lib/python3.10/dist-packages (from pydiffmap) (1.5.2)\n",
            "Requirement already satisfied: matplotlib in /usr/local/lib/python3.10/dist-packages (from pydiffmap) (3.8.0)\n",
            "Requirement already satisfied: six in /usr/local/lib/python3.10/dist-packages (from pydiffmap) (1.16.0)\n",
            "Requirement already satisfied: numexpr in /usr/local/lib/python3.10/dist-packages (from pydiffmap) (2.10.2)\n",
            "Requirement already satisfied: contourpy>=1.0.1 in /usr/local/lib/python3.10/dist-packages (from matplotlib->pydiffmap) (1.3.1)\n",
            "Requirement already satisfied: cycler>=0.10 in /usr/local/lib/python3.10/dist-packages (from matplotlib->pydiffmap) (0.12.1)\n",
            "Requirement already satisfied: fonttools>=4.22.0 in /usr/local/lib/python3.10/dist-packages (from matplotlib->pydiffmap) (4.55.1)\n",
            "Requirement already satisfied: kiwisolver>=1.0.1 in /usr/local/lib/python3.10/dist-packages (from matplotlib->pydiffmap) (1.4.7)\n",
            "Requirement already satisfied: packaging>=20.0 in /usr/local/lib/python3.10/dist-packages (from matplotlib->pydiffmap) (24.2)\n",
            "Requirement already satisfied: pillow>=6.2.0 in /usr/local/lib/python3.10/dist-packages (from matplotlib->pydiffmap) (11.0.0)\n",
            "Requirement already satisfied: pyparsing>=2.3.1 in /usr/local/lib/python3.10/dist-packages (from matplotlib->pydiffmap) (3.2.0)\n",
            "Requirement already satisfied: python-dateutil>=2.7 in /usr/local/lib/python3.10/dist-packages (from matplotlib->pydiffmap) (2.8.2)\n",
            "Requirement already satisfied: joblib>=1.2.0 in /usr/local/lib/python3.10/dist-packages (from scikit-learn->pydiffmap) (1.4.2)\n",
            "Requirement already satisfied: threadpoolctl>=3.1.0 in /usr/local/lib/python3.10/dist-packages (from scikit-learn->pydiffmap) (3.5.0)\n",
            "Downloading pydiffmap-0.2.0.1-py2.py3-none-any.whl (14 kB)\n",
            "Installing collected packages: pydiffmap\n",
            "Successfully installed pydiffmap-0.2.0.1\n"
          ]
        }
      ],
      "source": [
        "%pip install pydiffmap"
      ]
    },
    {
      "cell_type": "code",
      "source": [
        "import os\n",
        "import cv2\n",
        "import numpy as np\n",
        "import pandas as pd\n",
        "import matplotlib.pyplot as plt\n",
        "from sklearn.manifold import Isomap, LocallyLinearEmbedding, TSNE\n",
        "from pydiffmap import diffusion_map"
      ],
      "metadata": {
        "id": "BELu171gX0us"
      },
      "execution_count": 2,
      "outputs": []
    },
    {
      "cell_type": "code",
      "source": [
        "from zipfile import ZipFile\n",
        "file_name = '/content/Dataset.zip'\n",
        "\n",
        "with ZipFile(file_name, 'r') as zip:\n",
        "  zip.extractall()\n",
        "  print('Done')"
      ],
      "metadata": {
        "colab": {
          "base_uri": "https://localhost:8080/"
        },
        "id": "ql7cnFSnXuHY",
        "outputId": "b21f97e3-76f1-4865-809f-b0378a52828e"
      },
      "execution_count": 3,
      "outputs": [
        {
          "output_type": "stream",
          "name": "stdout",
          "text": [
            "Done\n"
          ]
        }
      ]
    },
    {
      "cell_type": "markdown",
      "source": [
        "# Data Preprocessing"
      ],
      "metadata": {
        "id": "TAQuDX8EYG8W"
      }
    },
    {
      "cell_type": "code",
      "source": [
        "# Define the image dimensions\n",
        "IMG_WIDTH, IMG_HEIGHT = 128, 128\n",
        "\n",
        "# Define the path to the dataset\n",
        "dataset_path = 'Dataset'\n",
        "\n",
        "# Define a dictionary to map folder names to class labels\n",
        "class_labels = {'Mild_Demented': 0, 'Moderate_Demented': 1, 'Non_Demented': 2, 'Very_Mild_Demented': 3}\n",
        "\n",
        "# Function to load and preprocess images\n",
        "def load_and_preprocess_images(dataset_path, img_width, img_height):\n",
        "    images = []\n",
        "    labels = []\n",
        "    for class_name, class_label in class_labels.items():\n",
        "        class_folder = os.path.join(dataset_path, class_name)\n",
        "        for img_file in os.listdir(class_folder):\n",
        "            img_path = os.path.join(class_folder, img_file)\n",
        "            img = cv2.imread(img_path, cv2.IMREAD_GRAYSCALE)\n",
        "            if img is not None:\n",
        "                img = cv2.resize(img, (img_width, img_height))\n",
        "                images.append(img.flatten())\n",
        "                labels.append(class_label)\n",
        "    return np.array(images), np.array(labels)\n",
        "\n",
        "# Load and preprocess the images\n",
        "X, y = load_and_preprocess_images(dataset_path, IMG_WIDTH, IMG_HEIGHT)\n",
        "\n",
        "# Print the shape of the processed data\n",
        "print(f'Processed data shape: {X.shape}')\n",
        "print(f'Processed labels shape: {y.shape}')"
      ],
      "metadata": {
        "colab": {
          "base_uri": "https://localhost:8080/"
        },
        "id": "kwQB9tThYI4q",
        "outputId": "00b49716-ba85-4c40-bf8f-d4189056ff3a"
      },
      "execution_count": 4,
      "outputs": [
        {
          "output_type": "stream",
          "name": "stdout",
          "text": [
            "Processed data shape: (6400, 16384)\n",
            "Processed labels shape: (6400,)\n"
          ]
        }
      ]
    },
    {
      "cell_type": "markdown",
      "source": [
        "# Apply the NLDR techniques"
      ],
      "metadata": {
        "id": "1GWeddTeYTm2"
      }
    },
    {
      "cell_type": "code",
      "source": [
        "# Initialize ISOMAP with best parameters\n",
        "isomap = Isomap(n_components = 44)\n",
        "\n",
        "# Fit ISOMAP to the preprocessed data\n",
        "X_isomap = isomap.fit_transform(X)\n",
        "\n",
        "# Initialize LLE with best parameters\n",
        "lle = LocallyLinearEmbedding(n_components = 1030, eigen_solver = 'dense')\n",
        "\n",
        "# Fit LLE to the preprocessed data\n",
        "X_lle = lle.fit_transform(X)\n",
        "\n",
        "# Initialize Diffusion Map\n",
        "neighbor_params = {'algorithm': 'brute'}\n",
        "diffmap = diffusion_map.DiffusionMap.from_sklearn(n_evecs = 1033, neighbor_params = neighbor_params, alpha = 0.25)\n",
        "\n",
        "# Fit Diffusion Map to the preprocessed data\n",
        "X_diffmap = diffmap.fit_transform(X)\n",
        "\n",
        "# Initialize t-SNE with best parameters for 2 dimensions\n",
        "tsne2D = TSNE(n_components = 2, perplexity = 10, learning_rate = 200, init = 'random', random_state = 42)\n",
        "\n",
        "# Fit t-SNE to the preprocessed data\n",
        "X_tsne_2D = tsne2D.fit_transform(X)\n",
        "\n",
        "# Initialize t-SNE with best parameters for 3 dimensions\n",
        "tsne3D = TSNE(n_components = 3, perplexity = 10, learning_rate = 100, init = 'random', random_state = 42)\n",
        "\n",
        "# Fit t-SNE to the preprocessed data\n",
        "X_tsne_3D = tsne3D.fit_transform(X)"
      ],
      "metadata": {
        "id": "NtztYIEMYidE"
      },
      "execution_count": 8,
      "outputs": []
    }
  ]
}